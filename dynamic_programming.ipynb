{
 "cells": [
  {
   "cell_type": "markdown",
   "id": "05df1a46-42da-44ea-a891-f0fb03942e4a",
   "metadata": {},
   "source": [
    "# Dynamic Programming"
   ]
  },
  {
   "cell_type": "markdown",
   "id": "6175b071-1ca1-4137-90ea-0d7b9695cd3e",
   "metadata": {
    "tags": []
   },
   "source": [
    "## Bottom-up dynamic programming\n",
    "- 반복문 기반으로 초기 변수 fib에 값을 저장하면서 문제들을 해결한다"
   ]
  },
  {
   "cell_type": "code",
   "execution_count": 3,
   "id": "50d238c8-787a-48e5-8b03-f718f35abd89",
   "metadata": {
    "tags": []
   },
   "outputs": [],
   "source": [
    "def fibonacci(n):\n",
    "    \n",
    "    if n == 0 : return 0\n",
    "    if n == 1 : return 1\n",
    "\n",
    "    fib = [None] * (n+1) # n+1개 리스트 초기화\n",
    "    fib[0] = 0\n",
    "    fib[1] = 1\n",
    "    \n",
    "    for i in range(2, n+1):\n",
    "        fib[i] = fib[i-1] + fib[i-2]\n",
    "        \n",
    "    print('피보나치 수열 출력', fib)\n",
    "    \n",
    "    return fib[n]"
   ]
  },
  {
   "cell_type": "code",
   "execution_count": 4,
   "id": "ae01eda3-49e6-437c-8a1c-2b9fe7610461",
   "metadata": {
    "tags": []
   },
   "outputs": [
    {
     "name": "stdout",
     "output_type": "stream",
     "text": [
      "피보나치 수열 출력 [0, 1, 1, 2, 3]\n"
     ]
    },
    {
     "data": {
      "text/plain": [
       "3"
      ]
     },
     "execution_count": 4,
     "metadata": {},
     "output_type": "execute_result"
    }
   ],
   "source": [
    "fibonacci(4)"
   ]
  },
  {
   "cell_type": "markdown",
   "id": "8847ccd3-8cd1-4294-a536-c45e0b44002f",
   "metadata": {},
   "source": [
    "## Top-down dynamic programming\n",
    "- 간단히 말하면 메모이제이션(Memozation)을 이용하여 재귀함수로 문제를 해결하는 것입니다. \n",
    "- 메모이제이션은 중복 계산을 막기 위한 캐쉬(Cache)라고 보면 됩니다."
   ]
  },
  {
   "cell_type": "code",
   "execution_count": 17,
   "id": "a0d090cb-4553-4d27-8d4d-bd882068414d",
   "metadata": {
    "tags": []
   },
   "outputs": [],
   "source": [
    "''' 중복계산을 막기 위한 메모이제이션 '''\n",
    "memoization = {} \n",
    "\n",
    "def fibonacci(n):\n",
    "    if  n in memoization:\n",
    "        return memoization[n]\n",
    "    \n",
    "    if n == 0: return 0\n",
    "    if n == 1: return 1\n",
    "\n",
    "    '''fibonacci(n), n >=2 경우 재귀함수 처리'''\n",
    "    fib = fibonacci(n-1) + fibonacci(n-2) \n",
    "\n",
    "    memoization[n] = fib\n",
    "    return fib"
   ]
  },
  {
   "cell_type": "code",
   "execution_count": 18,
   "id": "648626a8-f308-4fcf-85e3-f7741a1761ed",
   "metadata": {
    "tags": []
   },
   "outputs": [
    {
     "data": {
      "text/plain": [
       "3"
      ]
     },
     "execution_count": 18,
     "metadata": {},
     "output_type": "execute_result"
    }
   ],
   "source": [
    "fibonacci(4)"
   ]
  },
  {
   "cell_type": "markdown",
   "id": "70600370-ff60-4a5b-86fc-5f99be8c63ab",
   "metadata": {},
   "source": [
    "### 메모이제이션을 내부 함수의 변수로 처리하는 방법"
   ]
  },
  {
   "cell_type": "code",
   "execution_count": 23,
   "id": "faedc303-d01e-42ec-9cba-a62bb7f20a73",
   "metadata": {
    "tags": []
   },
   "outputs": [],
   "source": [
    "def fibonacci(n, memoization={}):\n",
    "    if n in memoization:\n",
    "        return memoization[n]\n",
    "    \n",
    "    if n == 0 or n == 1:\n",
    "        memoization[n] = n\n",
    "    else:\n",
    "        memoization[n] = fibonacci(n - 1, memoization) + fibonacci(n - 2, memoization)\n",
    "    \n",
    "    return memoization[n]"
   ]
  },
  {
   "cell_type": "code",
   "execution_count": 24,
   "id": "f96ba182-5e01-4fd5-9dd5-7a942d27b4df",
   "metadata": {
    "tags": []
   },
   "outputs": [
    {
     "data": {
      "text/plain": [
       "3"
      ]
     },
     "execution_count": 24,
     "metadata": {},
     "output_type": "execute_result"
    }
   ],
   "source": [
    "fibonacci(4)"
   ]
  },
  {
   "cell_type": "markdown",
   "id": "974dfdfd-8168-49bc-bb6e-2d3146cbd572",
   "metadata": {},
   "source": [
    "## 다이나믹 프로그래밍 문제"
   ]
  },
  {
   "cell_type": "markdown",
   "id": "ca64d283-d220-47f2-8a18-b51f91897168",
   "metadata": {
    "tags": []
   },
   "source": [
    "### LIS (Longest Increasing Subsequence) 문제"
   ]
  },
  {
   "cell_type": "code",
   "execution_count": 30,
   "id": "d3df8bb0-05ab-4328-968a-5d263af32129",
   "metadata": {
    "tags": []
   },
   "outputs": [
    {
     "name": "stdout",
     "output_type": "stream",
     "text": [
      "업데이트된 D 값 : [1, 1, 2, 1, 1, 1]\n",
      "업데이트된 D 값 : [1, 1, 2, 1, 1, 1]\n",
      "업데이트된 D 값 : [1, 1, 2, 2, 1, 1]\n",
      "업데이트된 D 값 : [1, 1, 2, 2, 2, 1]\n",
      "업데이트된 D 값 : [1, 1, 2, 2, 2, 1]\n",
      "업데이트된 D 값 : [1, 1, 2, 2, 3, 1]\n",
      "업데이트된 D 값 : [1, 1, 2, 2, 3, 2]\n",
      "업데이트된 D 값 : [1, 1, 2, 2, 3, 2]\n",
      "업데이트된 D 값 : [1, 1, 2, 2, 3, 3]\n",
      "업데이트된 D 값 : [1, 1, 2, 2, 3, 3]\n",
      "업데이트된 D 값 : [1, 1, 2, 2, 3, 4]\n",
      "4\n"
     ]
    }
   ],
   "source": [
    "def LIS(A):\n",
    "    n = len(A)\n",
    "    D = [1] * n  # D[i]는 A[i]를 마지막 원소로 하는 LIS 길이 저장\n",
    "    \n",
    "    for i in range(1, n):\n",
    "        for j in range(i):\n",
    "            if A[j] < A[i]:\n",
    "                D[i] = max(D[i], D[j] + 1)\n",
    "                print('업데이트된 D 값 :', D)\n",
    "    \n",
    "    return max(D)\n",
    "\n",
    "# 예시\n",
    "nums = [3, 1, 5, 2, 4, 9]\n",
    "result = LIS(nums)\n",
    "print(result)  # 출력: 4"
   ]
  },
  {
   "cell_type": "markdown",
   "id": "c54ba172-cd46-44ef-a41a-03abf470e2ce",
   "metadata": {
    "tags": []
   },
   "source": [
    "### 배낭 문제 (Knapsack Problem)"
   ]
  },
  {
   "cell_type": "code",
   "execution_count": 20,
   "id": "21eab485-4627-4338-a3bc-372021e9fa67",
   "metadata": {
    "tags": []
   },
   "outputs": [],
   "source": [
    "# 만약 아이템 4개이고, 배낭에 최대 무게가 5인 경우 \n",
    "# 다이나믹 프로그래밍 테이블은 아래와 같다\n",
    "\n",
    "# item count = 4, max weight = 5\n",
    "# item 0은 없으니까 버리는 영역으로 정의\n",
    "\n",
    "D = [ [0] * 6 for i in range(5)]"
   ]
  },
  {
   "cell_type": "code",
   "execution_count": 21,
   "id": "2e5c41a4-dff2-4787-bc7b-53091ea0f2b1",
   "metadata": {
    "tags": []
   },
   "outputs": [],
   "source": [
    "import numpy as np"
   ]
  },
  {
   "cell_type": "code",
   "execution_count": 22,
   "id": "053e5d5c-865e-4c4a-83e3-986200742d59",
   "metadata": {
    "tags": []
   },
   "outputs": [
    {
     "data": {
      "text/plain": [
       "[[0, 0, 0, 0, 0, 0],\n",
       " [0, 0, 0, 0, 0, 0],\n",
       " [0, 0, 0, 0, 0, 0],\n",
       " [0, 0, 0, 0, 0, 0],\n",
       " [0, 0, 0, 0, 0, 0]]"
      ]
     },
     "execution_count": 22,
     "metadata": {},
     "output_type": "execute_result"
    }
   ],
   "source": [
    "D"
   ]
  },
  {
   "cell_type": "code",
   "execution_count": 23,
   "id": "afbf8d63-579c-4e90-8f1f-d7c55a5fbfac",
   "metadata": {},
   "outputs": [
    {
     "data": {
      "text/plain": [
       "(5, 6)"
      ]
     },
     "execution_count": 23,
     "metadata": {},
     "output_type": "execute_result"
    }
   ],
   "source": [
    "np.array(D).shape"
   ]
  },
  {
   "cell_type": "code",
   "execution_count": 15,
   "id": "05bcf6ab-1cfc-4bc6-925d-3aa1b1f2ba7d",
   "metadata": {
    "tags": []
   },
   "outputs": [],
   "source": [
    "def knapsack(items, capacity):\n",
    "    n = len(items)\n",
    "    D = [[0] * (capacity + 1) for i in range(n + 1)]\n",
    "\n",
    "    # 아이템 i 루프\n",
    "    for i in range(1, n + 1):\n",
    "        \n",
    "        #아이템 가치와 무게 추출\n",
    "        value, weight = items[i - 1]\n",
    "        \n",
    "        #아이템 i에 해당되는 무게 j 루프\n",
    "        for w in range(1, capacity + 1):\n",
    "        \n",
    "            #아이템 i를 배낭에 넣을 수 있는 경우\n",
    "            if weight <= w:\n",
    "                D[i][w] = max(D[i - 1][w], #이전 아이템, 동일 무게에서의 가치\n",
    "                              D[i - 1][w - weight] + value) #이전 아이템, 동일 무게에서 무게를\n",
    "                \n",
    "            #아이템 i를 배낭에 넣을 수 없는 경우\n",
    "            else:\n",
    "                D[i][j] = D[i - 1][j]\n",
    "            \n",
    "            print(f'아이템 {i} 무게 {j} 업데이트 ', D)\n",
    "    \n",
    "    return D[n][capacity]\n"
   ]
  },
  {
   "cell_type": "code",
   "execution_count": 16,
   "id": "10fcc339-37f3-414d-98b0-00d735689795",
   "metadata": {
    "tags": []
   },
   "outputs": [
    {
     "name": "stdout",
     "output_type": "stream",
     "text": [
      "아이템 1 무게 1 업데이트  [[0, 0, 0, 0, 0, 0], [0, 0, 0, 0, 0, 0], [0, 0, 0, 0, 0, 0], [0, 0, 0, 0, 0, 0], [0, 0, 0, 0, 0, 0]]\n",
      "아이템 1 무게 2 업데이트  [[0, 0, 0, 0, 0, 0], [0, 0, 0, 0, 0, 0], [0, 0, 0, 0, 0, 0], [0, 0, 0, 0, 0, 0], [0, 0, 0, 0, 0, 0]]\n",
      "아이템 1 무게 3 업데이트  [[0, 0, 0, 0, 0, 0], [0, 0, 0, 0, 0, 0], [0, 0, 0, 0, 0, 0], [0, 0, 0, 0, 0, 0], [0, 0, 0, 0, 0, 0]]\n",
      "아이템 1 무게 4 업데이트  [[0, 0, 0, 0, 0, 0], [0, 0, 0, 0, 0, 0], [0, 0, 0, 0, 0, 0], [0, 0, 0, 0, 0, 0], [0, 0, 0, 0, 0, 0]]\n",
      "아이템 1 무게 5 업데이트  [[0, 0, 0, 0, 0, 0], [0, 0, 0, 0, 0, 60], [0, 0, 0, 0, 0, 0], [0, 0, 0, 0, 0, 0], [0, 0, 0, 0, 0, 0]]\n",
      "아이템 2 무게 1 업데이트  [[0, 0, 0, 0, 0, 0], [0, 0, 0, 0, 0, 60], [0, 0, 0, 0, 0, 0], [0, 0, 0, 0, 0, 0], [0, 0, 0, 0, 0, 0]]\n",
      "아이템 2 무게 2 업데이트  [[0, 0, 0, 0, 0, 0], [0, 0, 0, 0, 0, 60], [0, 0, 0, 0, 0, 0], [0, 0, 0, 0, 0, 0], [0, 0, 0, 0, 0, 0]]\n",
      "아이템 2 무게 3 업데이트  [[0, 0, 0, 0, 0, 0], [0, 0, 0, 0, 0, 60], [0, 0, 0, 50, 0, 0], [0, 0, 0, 0, 0, 0], [0, 0, 0, 0, 0, 0]]\n",
      "아이템 2 무게 4 업데이트  [[0, 0, 0, 0, 0, 0], [0, 0, 0, 0, 0, 60], [0, 0, 0, 50, 50, 0], [0, 0, 0, 0, 0, 0], [0, 0, 0, 0, 0, 0]]\n",
      "아이템 2 무게 5 업데이트  [[0, 0, 0, 0, 0, 0], [0, 0, 0, 0, 0, 60], [0, 0, 0, 50, 50, 60], [0, 0, 0, 0, 0, 0], [0, 0, 0, 0, 0, 0]]\n",
      "아이템 3 무게 1 업데이트  [[0, 0, 0, 0, 0, 0], [0, 0, 0, 0, 0, 60], [0, 0, 0, 50, 50, 60], [0, 0, 0, 0, 0, 0], [0, 0, 0, 0, 0, 0]]\n",
      "아이템 3 무게 2 업데이트  [[0, 0, 0, 0, 0, 0], [0, 0, 0, 0, 0, 60], [0, 0, 0, 50, 50, 60], [0, 0, 0, 0, 0, 0], [0, 0, 0, 0, 0, 0]]\n",
      "아이템 3 무게 3 업데이트  [[0, 0, 0, 0, 0, 0], [0, 0, 0, 0, 0, 60], [0, 0, 0, 50, 50, 60], [0, 0, 0, 50, 0, 0], [0, 0, 0, 0, 0, 0]]\n",
      "아이템 3 무게 4 업데이트  [[0, 0, 0, 0, 0, 0], [0, 0, 0, 0, 0, 60], [0, 0, 0, 50, 50, 60], [0, 0, 0, 50, 70, 0], [0, 0, 0, 0, 0, 0]]\n",
      "아이템 3 무게 5 업데이트  [[0, 0, 0, 0, 0, 0], [0, 0, 0, 0, 0, 60], [0, 0, 0, 50, 50, 60], [0, 0, 0, 50, 70, 70], [0, 0, 0, 0, 0, 0]]\n",
      "아이템 4 무게 1 업데이트  [[0, 0, 0, 0, 0, 0], [0, 0, 0, 0, 0, 60], [0, 0, 0, 50, 50, 60], [0, 0, 0, 50, 70, 70], [0, 0, 0, 0, 0, 0]]\n",
      "아이템 4 무게 2 업데이트  [[0, 0, 0, 0, 0, 0], [0, 0, 0, 0, 0, 60], [0, 0, 0, 50, 50, 60], [0, 0, 0, 50, 70, 70], [0, 0, 30, 0, 0, 0]]\n",
      "아이템 4 무게 3 업데이트  [[0, 0, 0, 0, 0, 0], [0, 0, 0, 0, 0, 60], [0, 0, 0, 50, 50, 60], [0, 0, 0, 50, 70, 70], [0, 0, 30, 50, 0, 0]]\n",
      "아이템 4 무게 4 업데이트  [[0, 0, 0, 0, 0, 0], [0, 0, 0, 0, 0, 60], [0, 0, 0, 50, 50, 60], [0, 0, 0, 50, 70, 70], [0, 0, 30, 50, 70, 0]]\n",
      "아이템 4 무게 5 업데이트  [[0, 0, 0, 0, 0, 0], [0, 0, 0, 0, 0, 60], [0, 0, 0, 50, 50, 60], [0, 0, 0, 50, 70, 70], [0, 0, 30, 50, 70, 80]]\n",
      "80\n"
     ]
    }
   ],
   "source": [
    "items = [(60, 5), \n",
    "         (50, 3), \n",
    "         (70, 4), \n",
    "         (30, 2)]\n",
    "\n",
    "capacity = 5\n",
    "\n",
    "max_value = knapsack(items, capacity)\n",
    "\n",
    "print(max_value)"
   ]
  },
  {
   "cell_type": "code",
   "execution_count": null,
   "id": "1feab6c6-db42-4c81-a0b7-7de446172a92",
   "metadata": {},
   "outputs": [],
   "source": []
  },
  {
   "cell_type": "code",
   "execution_count": null,
   "id": "e87e05bd-2380-4a3f-9d21-97263872af87",
   "metadata": {},
   "outputs": [],
   "source": []
  }
 ],
 "metadata": {
  "kernelspec": {
   "display_name": "Python 3 (ipykernel)",
   "language": "python",
   "name": "python3"
  },
  "language_info": {
   "codemirror_mode": {
    "name": "ipython",
    "version": 3
   },
   "file_extension": ".py",
   "mimetype": "text/x-python",
   "name": "python",
   "nbconvert_exporter": "python",
   "pygments_lexer": "ipython3",
   "version": "3.10.11"
  }
 },
 "nbformat": 4,
 "nbformat_minor": 5
}
